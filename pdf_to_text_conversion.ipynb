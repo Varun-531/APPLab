{
  "nbformat": 4,
  "nbformat_minor": 0,
  "metadata": {
    "colab": {
      "name": "pdf to text conversion.ipynb",
      "provenance": [],
      "collapsed_sections": [],
      "authorship_tag": "ABX9TyPGuZbQchf9oG2GuUPHuKOC"
    },
    "kernelspec": {
      "name": "python3",
      "display_name": "Python 3"
    },
    "language_info": {
      "name": "python"
    }
  },
  "cells": [
    {
      "cell_type": "code",
      "source": [
        "!pip install pymupdf\n",
        "#to work with fitz"
      ],
      "metadata": {
        "colab": {
          "base_uri": "https://localhost:8080/"
        },
        "id": "w8DzeautSv4k",
        "outputId": "566db06f-a030-419b-8440-4bc13e249127"
      },
      "execution_count": 1,
      "outputs": [
        {
          "output_type": "stream",
          "name": "stdout",
          "text": [
            "Looking in indexes: https://pypi.org/simple, https://us-python.pkg.dev/colab-wheels/public/simple/\n",
            "Collecting pymupdf\n",
            "  Downloading PyMuPDF-1.19.6-cp37-cp37m-manylinux_2_17_x86_64.manylinux2014_x86_64.whl (8.8 MB)\n",
            "\u001b[K     |████████████████████████████████| 8.8 MB 4.4 MB/s \n",
            "\u001b[?25hInstalling collected packages: pymupdf\n",
            "Successfully installed pymupdf-1.19.6\n"
          ]
        }
      ]
    },
    {
      "cell_type": "code",
      "source": [
        "import fitz\n",
        "from pathlib import Path\n",
        "import os\n"
      ],
      "metadata": {
        "id": "r3jIZQONSzqA"
      },
      "execution_count": 2,
      "outputs": []
    },
    {
      "cell_type": "code",
      "execution_count": 3,
      "metadata": {
        "colab": {
          "base_uri": "https://localhost:8080/"
        },
        "id": "ZA1Q9bNWSS72",
        "outputId": "28f3fddf-80b0-4e4e-926e-16f4e440d598"
      },
      "outputs": [
        {
          "output_type": "stream",
          "name": "stdout",
          "text": [
            "Mounted at /content/drive\n"
          ]
        }
      ],
      "source": [
        "from google.colab import drive\n",
        "drive.mount('/content/drive')"
      ]
    },
    {
      "cell_type": "code",
      "source": [
        "data_folder = Path(\"/content/drive/MyDrive/PhD/Text Books/Python/\")\n"
      ],
      "metadata": {
        "id": "v8s4UopnUm29"
      },
      "execution_count": 4,
      "outputs": []
    },
    {
      "cell_type": "code",
      "source": [
        "files = os.listdir(data_folder)\n",
        "pdffiles = [f for f in files if f.endswith(\"pdf\")]\n",
        "print(\"No.of pdf files : \", len(pdffiles))"
      ],
      "metadata": {
        "colab": {
          "base_uri": "https://localhost:8080/"
        },
        "id": "RfWjK1vIVvdy",
        "outputId": "330d5f44-d062-41cd-876c-204d4efb9263"
      },
      "execution_count": 5,
      "outputs": [
        {
          "output_type": "stream",
          "name": "stdout",
          "text": [
            "No.of pdf files :  75\n"
          ]
        }
      ]
    },
    {
      "cell_type": "code",
      "source": [
        "#to read from pdf files\n",
        "def read_pdf(filename):\n",
        "    pdf = fitz.open(filename)\n",
        "    text = \"\"\n",
        "    for p in pdf:\n",
        "        text += p.get_text()\n",
        "    return text"
      ],
      "metadata": {
        "id": "OsJJv0grXKcm"
      },
      "execution_count": 6,
      "outputs": []
    },
    {
      "cell_type": "code",
      "source": [
        "from tqdm import tqdm"
      ],
      "metadata": {
        "id": "qY6rtGLuX7rK"
      },
      "execution_count": 7,
      "outputs": []
    },
    {
      "cell_type": "code",
      "source": [
        "#reading every pdf file and storing the content in textfiles folder\n",
        "pbar = tqdm(pdffiles)\n",
        "i = 1\n",
        "for file in pbar:\n",
        "  content = read_pdf(data_folder/file)\n",
        "  newfile = \"file\"+str(i)+\".txt\"\n",
        "  i = i+1\n",
        "  pbar.set_description(f\"len:{len(content)} {newfile}\")\n",
        "  with open(data_folder/\"textfiles\"/newfile,\"w\") as f:\n",
        "    f.write(content)\n",
        "\n"
      ],
      "metadata": {
        "colab": {
          "base_uri": "https://localhost:8080/"
        },
        "id": "RuAM3iArWIVP",
        "outputId": "0ea13e5b-27c4-462a-b752-63889fc42160"
      },
      "execution_count": 8,
      "outputs": [
        {
          "output_type": "stream",
          "name": "stderr",
          "text": [
            "len:448142 file75.txt: 100%|██████████| 75/75 [01:52<00:00,  1.50s/it]\n"
          ]
        }
      ]
    },
    {
      "cell_type": "code",
      "source": [
        ""
      ],
      "metadata": {
        "id": "vh08zLhq_IvR"
      },
      "execution_count": null,
      "outputs": []
    }
  ]
}